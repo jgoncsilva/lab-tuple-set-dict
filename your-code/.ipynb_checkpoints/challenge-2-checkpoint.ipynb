{
 "cells": [
  {
   "cell_type": "markdown",
   "metadata": {},
   "source": [
    "## Challenge 2: Sets\n",
    "\n",
    "There are a lot to learn about Python Sets and the information presented in the lesson is limited due to its length. To learn Python Sets in depth you are strongly encouraged to review the W3Schools tutorial on [Python Sets Examples and Methods](https://www.w3schools.com/python/python_sets.asp) before you work on this lab. Some difficult questions in this lab have their solutions in the W3Schools tutorial.\n",
    "\n",
    "#### First, import the Python `random` libary"
   ]
  },
  {
   "cell_type": "code",
   "execution_count": 3,
   "metadata": {},
   "outputs": [],
   "source": [
    "import random"
   ]
  },
  {
   "cell_type": "markdown",
   "metadata": {},
   "source": [
    "#### 1 - In the cell below, create a list named `sample_list_1` with 80 random values. \n",
    "\n",
    "Requirements:\n",
    "\n",
    "* Each value is an integer falling between 0 and 100.\n",
    "* Each value in the list is unique.\n",
    "\n",
    "Print `sample_list_1` to review its values\n",
    "\n",
    "*Hint: use `random.sample` ([reference](https://docs.python.org/3/library/random.html#random.sample)).*"
   ]
  },
  {
   "cell_type": "code",
   "execution_count": 4,
   "metadata": {},
   "outputs": [
    {
     "data": {
      "text/plain": [
       "[44,\n",
       " 67,\n",
       " 4,\n",
       " 42,\n",
       " 87,\n",
       " 79,\n",
       " 12,\n",
       " 55,\n",
       " 95,\n",
       " 0,\n",
       " 5,\n",
       " 92,\n",
       " 65,\n",
       " 56,\n",
       " 81,\n",
       " 83,\n",
       " 48,\n",
       " 59,\n",
       " 37,\n",
       " 90,\n",
       " 54,\n",
       " 40,\n",
       " 15,\n",
       " 53,\n",
       " 63,\n",
       " 96,\n",
       " 84,\n",
       " 21,\n",
       " 89,\n",
       " 94,\n",
       " 47,\n",
       " 50,\n",
       " 16,\n",
       " 25,\n",
       " 41,\n",
       " 93,\n",
       " 36,\n",
       " 34,\n",
       " 32,\n",
       " 70,\n",
       " 43,\n",
       " 2,\n",
       " 18,\n",
       " 64,\n",
       " 74,\n",
       " 1,\n",
       " 80,\n",
       " 8,\n",
       " 6,\n",
       " 46,\n",
       " 13,\n",
       " 20,\n",
       " 24,\n",
       " 31,\n",
       " 52,\n",
       " 62,\n",
       " 91,\n",
       " 68,\n",
       " 82,\n",
       " 17,\n",
       " 57,\n",
       " 98,\n",
       " 99,\n",
       " 39,\n",
       " 7,\n",
       " 9,\n",
       " 29,\n",
       " 86,\n",
       " 76,\n",
       " 77,\n",
       " 19,\n",
       " 11,\n",
       " 23,\n",
       " 3,\n",
       " 10,\n",
       " 27,\n",
       " 88,\n",
       " 78,\n",
       " 35,\n",
       " 14]"
      ]
     },
     "execution_count": 4,
     "metadata": {},
     "output_type": "execute_result"
    }
   ],
   "source": [
    "# Your code here\n",
    "sample_list_1 = random.sample(range(100), 80)\n",
    "sample_list_1"
   ]
  },
  {
   "cell_type": "markdown",
   "metadata": {},
   "source": [
    "#### 2 - Convert `sample_list_1` to a set called `set1`. Print the length of the set. Is its length still 80?"
   ]
  },
  {
   "cell_type": "code",
   "execution_count": 5,
   "metadata": {},
   "outputs": [
    {
     "name": "stdout",
     "output_type": "stream",
     "text": [
      "80\n"
     ]
    }
   ],
   "source": [
    "# Your code here\n",
    "set1 = set(sample_list_1)\n",
    "print(len(set1))"
   ]
  },
  {
   "cell_type": "markdown",
   "metadata": {},
   "source": [
    "#### 3 - Create another list named `sample_list_2` with 80 random values.\n",
    "\n",
    "Requirements:\n",
    "\n",
    "* Each value is an integer falling between 0 and 100.\n",
    "* The values in the list don't have to be unique.\n",
    "\n",
    "*Hint: Use a FOR loop.*"
   ]
  },
  {
   "cell_type": "code",
   "execution_count": 6,
   "metadata": {},
   "outputs": [
    {
     "name": "stdout",
     "output_type": "stream",
     "text": [
      "[96, 65, 35, 27, 77, 24, 33, 27, 36, 12, 7, 38, 42, 54, 62, 20, 76, 62, 18, 66, 54, 24, 27, 97, 47, 91, 80, 21, 98, 62, 40, 2, 59, 64, 62, 61, 3, 29, 88, 98, 55, 69, 96, 40, 2, 27, 30, 87, 26, 6, 85, 8, 54, 2, 26, 80, 26, 64, 76, 45, 29, 9, 97, 93, 81, 14, 89, 6, 59, 40, 7, 56, 85, 28, 71, 59, 80, 37, 82, 1]\n"
     ]
    }
   ],
   "source": [
    "sample_list_2 = [random.randrange(0,100) for n in range(80)]\n",
    "\n",
    "print(sample_list_2)"
   ]
  },
  {
   "cell_type": "markdown",
   "metadata": {},
   "source": [
    "#### 4 - Convert `sample_list_2` to a set called `set2`. Print the length of the set. Is its length still 80?"
   ]
  },
  {
   "cell_type": "code",
   "execution_count": 7,
   "metadata": {},
   "outputs": [
    {
     "name": "stdout",
     "output_type": "stream",
     "text": [
      "52\n"
     ]
    }
   ],
   "source": [
    "# Your code here\n",
    "set2 = set(sample_list_2)\n",
    "print(len(set2))"
   ]
  },
  {
   "cell_type": "markdown",
   "metadata": {},
   "source": [
    "#### 5 - Identify the elements present in `set1` but not in `set2`. Assign the elements to a new set named `set3`."
   ]
  },
  {
   "cell_type": "code",
   "execution_count": 8,
   "metadata": {},
   "outputs": [
    {
     "name": "stdout",
     "output_type": "stream",
     "text": [
      "{0, 4, 5, 10, 11, 13, 15, 16, 17, 19, 23, 25, 31, 32, 34, 39, 41, 43, 44, 46, 48, 50, 52, 53, 57, 63, 67, 68, 70, 74, 78, 79, 83, 84, 86, 90, 92, 94, 95, 99}\n"
     ]
    }
   ],
   "source": [
    "set3 = set1 - set2\n",
    "print(set3)"
   ]
  },
  {
   "cell_type": "markdown",
   "metadata": {},
   "source": [
    "#### 6 - Identify the elements present in `set2` but not in `set1`. Assign the elements to a new set named `set4`."
   ]
  },
  {
   "cell_type": "code",
   "execution_count": 9,
   "metadata": {},
   "outputs": [
    {
     "name": "stdout",
     "output_type": "stream",
     "text": [
      "{33, 66, 97, 69, 38, 71, 45, 85, 26, 28, 61, 30}\n"
     ]
    }
   ],
   "source": [
    "set4 = set2 - set1# Your code here\n",
    "print(set4)"
   ]
  },
  {
   "cell_type": "markdown",
   "metadata": {},
   "source": [
    "#### 7 - Now Identify the elements shared between `set1` and `set2`. Assign the elements to a new set named `set5`."
   ]
  },
  {
   "cell_type": "code",
   "execution_count": 10,
   "metadata": {},
   "outputs": [
    {
     "name": "stdout",
     "output_type": "stream",
     "text": [
      "{1, 2, 3, 6, 7, 8, 9, 12, 14, 18, 20, 21, 24, 27, 29, 35, 36, 37, 40, 42, 47, 54, 55, 56, 59, 62, 64, 65, 76, 77, 80, 81, 82, 87, 88, 89, 91, 93, 96, 98}\n"
     ]
    }
   ],
   "source": [
    "set5 = set1.intersection(set2)\n",
    "print(set5)\n"
   ]
  },
  {
   "cell_type": "markdown",
   "metadata": {},
   "source": [
    "#### 8 - Create an empty set called `set6`."
   ]
  },
  {
   "cell_type": "code",
   "execution_count": 11,
   "metadata": {},
   "outputs": [
    {
     "name": "stdout",
     "output_type": "stream",
     "text": [
      "set()\n",
      "<class 'set'>\n"
     ]
    }
   ],
   "source": [
    "# Your code here\n",
    "set6 = set()\n",
    "print(set6)\n",
    "print(type(set6))\n"
   ]
  },
  {
   "cell_type": "markdown",
   "metadata": {},
   "source": [
    "#### 9 - Add `set3` and `set5` to `set6` using the Python Set `update` method."
   ]
  },
  {
   "cell_type": "code",
   "execution_count": 12,
   "metadata": {},
   "outputs": [
    {
     "name": "stdout",
     "output_type": "stream",
     "text": [
      "set()\n"
     ]
    }
   ],
   "source": [
    "print(set6)"
   ]
  },
  {
   "cell_type": "markdown",
   "metadata": {},
   "source": [
    "#### 10 - Check if `set1` and `set6` are equal."
   ]
  },
  {
   "cell_type": "code",
   "execution_count": 13,
   "metadata": {},
   "outputs": [
    {
     "name": "stdout",
     "output_type": "stream",
     "text": [
      "False\n"
     ]
    }
   ],
   "source": [
    "print(set1 == set6)"
   ]
  },
  {
   "cell_type": "markdown",
   "metadata": {},
   "source": [
    "#### 11 - Check if `set1` contains `set2` using the Python Set `issubset` method. Then check if `set1` contains `set3`.*"
   ]
  },
  {
   "cell_type": "code",
   "execution_count": 14,
   "metadata": {},
   "outputs": [
    {
     "name": "stdout",
     "output_type": "stream",
     "text": [
      "False\n",
      "True\n"
     ]
    }
   ],
   "source": [
    "print(set2.issubset(set1))\n",
    "print(set3.issubset(set1))"
   ]
  },
  {
   "cell_type": "markdown",
   "metadata": {},
   "source": [
    "#### 12 -Using the Python Set `union` method, aggregate `set3`, `set4`, and `set5`. Then aggregate `set1` and `set2`. \n",
    "\n",
    "#### Check if the aggregated values are equal."
   ]
  },
  {
   "cell_type": "code",
   "execution_count": 15,
   "metadata": {},
   "outputs": [
    {
     "name": "stdout",
     "output_type": "stream",
     "text": [
      "First union of sets 3, 4 and 5: {0, 1, 2, 3, 4, 5, 6, 7, 8, 9, 10, 11, 12, 13, 14, 15, 16, 17, 18, 19, 20, 21, 23, 24, 25, 26, 27, 28, 29, 30, 31, 32, 33, 34, 35, 36, 37, 38, 39, 40, 41, 42, 43, 44, 45, 46, 47, 48, 50, 52, 53, 54, 55, 56, 57, 59, 61, 62, 63, 64, 65, 66, 67, 68, 69, 70, 71, 74, 76, 77, 78, 79, 80, 81, 82, 83, 84, 85, 86, 87, 88, 89, 90, 91, 92, 93, 94, 95, 96, 97, 98, 99}\n",
      "The second union of sets 1 and 2 : {0, 1, 2, 3, 4, 5, 6, 7, 8, 9, 10, 11, 12, 13, 14, 15, 16, 17, 18, 19, 20, 21, 23, 24, 25, 26, 27, 28, 29, 30, 31, 32, 33, 34, 35, 36, 37, 38, 39, 40, 41, 42, 43, 44, 45, 46, 47, 48, 50, 52, 53, 54, 55, 56, 57, 59, 61, 62, 63, 64, 65, 66, 67, 68, 69, 70, 71, 74, 76, 77, 78, 79, 80, 81, 82, 83, 84, 85, 86, 87, 88, 89, 90, 91, 92, 93, 94, 95, 96, 97, 98, 99}\n",
      "They are equal? True\n"
     ]
    }
   ],
   "source": [
    "a = set3.union(set4, set5)\n",
    "print(\"First union of sets 3, 4 and 5:\", a)\n",
    "b = set1.union(set2)\n",
    "print(\"The second union of sets 1 and 2 :\", b)\n",
    "print(\"They are equal?\", a == b)\n"
   ]
  },
  {
   "cell_type": "markdown",
   "metadata": {},
   "source": [
    "#### 13 -Using the `pop` method, remove the first element from `set1`."
   ]
  },
  {
   "cell_type": "code",
   "execution_count": 16,
   "metadata": {},
   "outputs": [
    {
     "name": "stdout",
     "output_type": "stream",
     "text": [
      "0\n"
     ]
    }
   ],
   "source": [
    "print(set1.pop())"
   ]
  },
  {
   "cell_type": "markdown",
   "metadata": {},
   "source": [
    "#### 14 -Remove every element in the following list from `set1` if they are present in the set. Print the remaining elements.\n",
    "\n",
    "```\n",
    "list_to_remove = [1, 9, 11, 19, 21, 29, 31, 39, 41, 49, 51, 59, 61, 69, 71, 79, 81, 89, 91, 99]\n",
    "```"
   ]
  },
  {
   "cell_type": "code",
   "execution_count": 17,
   "metadata": {},
   "outputs": [
    {
     "data": {
      "text/plain": [
       "'a = set(list_to_remove)\\nprint(set1 - a)'"
      ]
     },
     "execution_count": 17,
     "metadata": {},
     "output_type": "execute_result"
    }
   ],
   "source": [
    "list_to_remove = [1, 9, 11, 19, 21, 29, 31, 39, 41, 49, 51, 59, 61, 69, 71, 79, 81, 89, 91, 99]\n",
    "[set1.remove(i) for i in list_to_remove if i in set1]\n",
    "\n",
    "'''a = set(list_to_remove)\n",
    "print(set1 - a)'''\n"
   ]
  },
  {
   "cell_type": "markdown",
   "metadata": {},
   "source": [
    "#### 15 -The objective of this lab is to provide you a overview of manipulating sets in Python and how they can be integrated within a real usecase\n",
    "#### For the exercises below it's strongly advised to quickly check this link: https://docs.python.org/2/library/sets.html#sets.Set\n",
    "#### Imagine you need to create the grocery list for your family! Below you will see a list of items each family member wants. There will be repetitions because this family has the habbit of each time they notice something is missing to write it down. The problem is that they don't really talk to each other and therefore some items in the list are repeated. With the collection of questions below you will see how they solve repetion and create a grocery list with unique elements.\n",
    "\n"
   ]
  },
  {
   "cell_type": "markdown",
   "metadata": {},
   "source": [
    "#### 15.1- As you can see there are items repeated in each list. Creat a sequence of iterable elements with dintinct items that each family member wants. You can do it in two different ways. Assign each one (set) to a variable with the name of the family member (ex: father_set)."
   ]
  },
  {
   "cell_type": "code",
   "execution_count": 18,
   "metadata": {},
   "outputs": [],
   "source": [
    "father_list = ['garlic', 'watermelon', 'toilet paper', 'yogurt', 'onions', 'gums', 'flour', 'cucumber', 'watermelon', 'yogurt', 'garlic']\n",
    "mother_list = []\n",
    "Jo_list = ['blueberries', 'sugar', 'watermelon', 'gums', 'tomatoes', 'yogurt', 'juice', 'milk', 'onions', 'garlic', 'cucumber', 'sugar', 'blueberries', 'gums', 'yogurt']\n",
    "Carlos_list = ['tomatoes', 'water', 'onions', 'blueberries', 'garlic', 'flour', 'cherries', 'tomatoes', 'onions', 'water', 'tomatoes', 'toilet paper']\n",
    "Mattia_list = []\n",
    "\n",
    "father_set = set(father_list)\n",
    "Jo_set = set(Jo_list)\n",
    "Carlos_set = set(Carlos_list)\n"
   ]
  },
  {
   "cell_type": "markdown",
   "metadata": {},
   "source": [
    "#### 15.2- Q: Mattia wants the same items that his brother Carlos and his sister Jo but doesn't want anything they both want.\n",
    "\n",
    "##### Hint: check out the documentation for `x.symmetric_difference(y)`."
   ]
  },
  {
   "cell_type": "code",
   "execution_count": 19,
   "metadata": {},
   "outputs": [
    {
     "name": "stdout",
     "output_type": "stream",
     "text": [
      "{'water', 'gums', 'toilet paper', 'sugar', 'milk', 'yogurt', 'flour', 'cucumber', 'cherries', 'watermelon', 'juice'}\n"
     ]
    }
   ],
   "source": [
    "Mattia_set = Jo_set.symmetric_difference(Carlos_set)\n",
    "print(Mattia_set)\n"
   ]
  },
  {
   "cell_type": "markdown",
   "metadata": {},
   "source": [
    "#### 15.3- The line of code below  will  generate a list of random elements from a collection of items, with replacement. Run it and from it create a sequence of unique elements and assign it to the variable mother.\n"
   ]
  },
  {
   "cell_type": "code",
   "execution_count": 20,
   "metadata": {},
   "outputs": [
    {
     "name": "stdout",
     "output_type": "stream",
     "text": [
      "['sugar', 'bread', 'gums', 'cherries', 'blueberries', 'sugar', 'bread', 'bread', 'milk', 'blueberries']\n"
     ]
    }
   ],
   "source": [
    "import random\n",
    "items = ['milk', 'water', 'chocolate', 'blueberries', 'shampoo', 'flour', 'bread', 'sugar', 'watermelon', 'vinegar', 'tomatoes', 'yogurt', 'juice', 'gums', 'onions', 'garlic', 'cucumber', 'mushrooms', 'toilet paper', 'oranges', 'deodorant', 'cherries']\n",
    "\n",
    "mother_list = random.choices(items,k = 10) # https://docs.python.org/3/library/random.html\n",
    "\n",
    "print(mother_list)"
   ]
  },
  {
   "cell_type": "code",
   "execution_count": 22,
   "metadata": {},
   "outputs": [
    {
     "name": "stdout",
     "output_type": "stream",
     "text": [
      "{'gums', 'sugar', 'milk', 'blueberries', 'bread', 'cherries'}\n"
     ]
    }
   ],
   "source": [
    "# Your code here\n",
    "\n",
    "mother = set(mother_list)\n",
    "print(mother)\n"
   ]
  },
  {
   "cell_type": "markdown",
   "metadata": {},
   "source": [
    "#### 15.4- Before leaving the house to the grocery store the father found a lot of toilet paper, so the mother decided to remove it from the items needed to be bought. Use the `.discard()` method to remove from each set created before the 'toilet paper'. \n",
    "\n",
    "#### Hint: Try to first create a list contaning the variables of each set created before, then loop through them and remove the unecessary item. \n",
    "\n",
    "##### Note: The`.discard()` method will remove and update the set without the need of reassignment.\n",
    "\n"
   ]
  },
  {
   "cell_type": "code",
   "execution_count": 23,
   "metadata": {},
   "outputs": [
    {
     "name": "stdout",
     "output_type": "stream",
     "text": [
      "[{'gums', 'sugar', 'milk', 'blueberries', 'bread', 'cherries'}, {'gums', 'garlic', 'onions', 'yogurt', 'flour', 'watermelon', 'cucumber'}, {'gums', 'sugar', 'garlic', 'milk', 'onions', 'yogurt', 'blueberries', 'tomatoes', 'cucumber', 'watermelon', 'juice'}, {'water', 'gums', 'sugar', 'milk', 'yogurt', 'flour', 'cucumber', 'cherries', 'watermelon', 'juice'}, {'water', 'garlic', 'onions', 'blueberries', 'tomatoes', 'flour', 'cherries'}]\n"
     ]
    }
   ],
   "source": [
    "shopping_lists = [mother, father_set, Jo_set, Mattia_set, Carlos_set]\n",
    "\n",
    "[l.discard('toilet paper') for l in shopping_lists]\n",
    "print(shopping_lists)\n"
   ]
  },
  {
   "cell_type": "markdown",
   "metadata": {},
   "source": [
    "#### 15.5- Create a set with all the groceries needed to be bought for the house (no repetitions)."
   ]
  },
  {
   "cell_type": "code",
   "execution_count": 24,
   "metadata": {},
   "outputs": [
    {
     "name": "stdout",
     "output_type": "stream",
     "text": [
      "{'gums', 'sugar', 'garlic', 'water', 'milk', 'onions', 'yogurt', 'blueberries', 'tomatoes', 'bread', 'flour', 'watermelon', 'cherries', 'cucumber', 'juice'}\n"
     ]
    }
   ],
   "source": [
    "\n",
    "house_list = set([item for l in shopping_lists for item in l])\n",
    "print (house_list)\n"
   ]
  },
  {
   "cell_type": "markdown",
   "metadata": {},
   "source": [
    "#### 15.6- The Father said that he could only buy five items this time. So he decided to arbitraly pick wich ones to buy this time.\n",
    "\n",
    "##### Hint: use the `.pop()` method."
   ]
  },
  {
   "cell_type": "code",
   "execution_count": 25,
   "metadata": {},
   "outputs": [
    {
     "name": "stdout",
     "output_type": "stream",
     "text": [
      "['gums', 'sugar', 'garlic', 'water', 'milk']\n"
     ]
    }
   ],
   "source": [
    "picks = [house_list.pop() for i in range(5)]\n",
    "print(picks)\n"
   ]
  },
  {
   "cell_type": "code",
   "execution_count": null,
   "metadata": {},
   "outputs": [],
   "source": []
  }
 ],
 "metadata": {
  "kernelspec": {
   "display_name": "Python 3",
   "language": "python",
   "name": "python3"
  },
  "language_info": {
   "codemirror_mode": {
    "name": "ipython",
    "version": 3
   },
   "file_extension": ".py",
   "mimetype": "text/x-python",
   "name": "python",
   "nbconvert_exporter": "python",
   "pygments_lexer": "ipython3",
   "version": "3.7.6"
  }
 },
 "nbformat": 4,
 "nbformat_minor": 2
}
